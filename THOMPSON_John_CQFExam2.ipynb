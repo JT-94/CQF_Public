{
 "cells": [
  {
   "cell_type": "markdown",
   "metadata": {},
   "source": [
    "# CQF Exam 2 - John Thompson"
   ]
  },
  {
   "cell_type": "code",
   "execution_count": 121,
   "metadata": {},
   "outputs": [],
   "source": [
    "import numpy as np\n",
    "import scipy.linalg as linalg\n",
    "import time\n",
    "import matplotlib.pyplot as plt"
   ]
  },
  {
   "cell_type": "code",
   "execution_count": 122,
   "metadata": {},
   "outputs": [],
   "source": [
    "A = np.array([[0,3,-1,8],[-1,11,-1,3],[2,-1,10,-1],[10,-1,2,0]])\n",
    "b = np.array([[15],[25],[-11],[6]])"
   ]
  },
  {
   "cell_type": "markdown",
   "metadata": {},
   "source": [
    "## Q1: Write a program to test if the matrix A is strictly diagonally dominant."
   ]
  },
  {
   "cell_type": "markdown",
   "metadata": {},
   "source": [
    "#### Definition of a strictly diagonally dominant matrix\n",
    "\n",
    "A n x n square matrix [A] is diagonally dominant if \n",
    "\n",
    "$ |A_{ii}| > \\Sigma^n_{j=1}|A_{ij}| $ for i = 1,2,...,n and i $ \\neq $ j \n",
    "\n",
    "that is, for each row, the absolute value of the diagonal elements is strictly greater than the sum of the absolute values of the remaining elements of that row."
   ]
  },
  {
   "cell_type": "code",
   "execution_count": 151,
   "metadata": {},
   "outputs": [],
   "source": [
    "def SDD(Matrix):\n",
    "    D = np.diag(np.abs(Matrix)) # Find absolute value of diagonal coefficients \n",
    "    S = np.sum(np.abs(Matrix), axis=1) - D # Find absolute row sum without diagonal element\n",
    "    num_rows, num_cols = Matrix.shape\n",
    "    \n",
    "    if np.all(D > S): \n",
    "        print('This matrix IS strictly diagonally dominant.')\n",
    "    else:\n",
    "        print('This matrix IS NOT strictly diagonally dominant.')\n",
    "\n",
    "    print('\\nFor strict diagonal dominance the sum of the absolute values of the diagonal row elements minus the sum of the absolute values of the non-diagonal elements should be > 0 for ALL rows.',\n",
    "              '\\n',\n",
    "              '\\nResults for each row shown below:')\n",
    "    for i in range(0,num_rows):\n",
    "            print('D - S for','Row',str(i),':', D[i]-S[i])\n",
    "    return "
   ]
  },
  {
   "cell_type": "code",
   "execution_count": 152,
   "metadata": {
    "scrolled": true
   },
   "outputs": [
    {
     "name": "stdout",
     "output_type": "stream",
     "text": [
      "This matrix IS NOT strictly diagonally dominant.\n",
      "\n",
      "For strict diagonal dominance the sum of the absolute values of the diagonal row elements minus the sum of the absolute values of the non-diagonal elements should be > 0 for ALL rows. \n",
      " \n",
      "Results for each row shown below:\n",
      "D - S for Row 0 : -12\n",
      "D - S for Row 1 : 6\n",
      "D - S for Row 2 : 6\n",
      "D - S for Row 3 : -13\n"
     ]
    }
   ],
   "source": [
    "sdd_Check = SDD(A)\n",
    "sdd_Check"
   ]
  },
  {
   "cell_type": "markdown",
   "metadata": {},
   "source": [
    "**-----------------------------------------------------------------------------------------------------------------------------------\n",
    "\n",
    "**-----------------------------------------------------------------------------------------------------------------------------------"
   ]
  },
  {
   "cell_type": "markdown",
   "metadata": {},
   "source": [
    "## Q2) LU Decomposition:\n",
    "### Write a program to obtain a solution of (*) using both methods of Doolittle and Crout. Your program in each case should list L and U, followed by the solution for x."
   ]
  },
  {
   "cell_type": "code",
   "execution_count": 125,
   "metadata": {},
   "outputs": [],
   "source": [
    "def pivot_matrix(M):\n",
    "    \n",
    "    # Returns the pivoting matrix for M\n",
    "    n_a = len(M)\n",
    "    \n",
    "    # Create an identity matrix, with floating point values \n",
    "    id_mat = [[float(i == j) for i in range(n_a)] for j in range(n_a)]\n",
    "    \n",
    "    # Rearrange the identity matrix such that the largest element of                                                                                                                                                                                   \n",
    "    # each column of M is placed on the diagonal of M\n",
    "    for j in range(n_a):\n",
    "        row = max(range(j, n_a), key=lambda i: abs(M[i][j]))\n",
    "        if j != row:\n",
    "            #swap the rows\n",
    "            id_mat[j], id_mat[row] = id_mat[row], id_mat[j]\n",
    "            \n",
    "    return id_mat"
   ]
  },
  {
   "cell_type": "markdown",
   "metadata": {},
   "source": [
    "#### Doolittle Method\n",
    "\n",
    "**Steps**\n",
    "\n",
    "1] For k = 1,2,...,n do steps 2-3,5\n",
    "\n",
    "2] Set $ l_{kk} = 1 $\n",
    "\n",
    "3] For j = k, k+1,..., n do step 4\n",
    "\n",
    "4] $ u_{kj} = a_{ij} - \\sum_{k=1}^{i-1} u_{kj} l_{ik} $\n",
    "\n",
    "5] For i = k+1, k+2,...,n do step 6\n",
    "\n",
    "6] $ l_{ik} = \\frac{1}{u_{kk}} (a_{ik} - \\sum_{m=1}^{k-1} l_{im} u_{mk} ) $"
   ]
  },
  {
   "cell_type": "code",
   "execution_count": 126,
   "metadata": {},
   "outputs": [],
   "source": [
    "def lu_decomposition_Doolittle(A):\n",
    "    \n",
    "    n = len(A)\n",
    "    \n",
    "    # Create zero matrices for U and identity matrix for L\n",
    "    L = np.eye(n)\n",
    "    U = np.zeros((n,n))\n",
    "    \n",
    "    # Create the pivot matrix P and the multipled matrix PA                                                                                                                                                                                            \n",
    "    P = pivot_matrix(A)\n",
    "    PA = np.dot(P,A)\n",
    "    \n",
    "    # Perform the LU Decomposition \n",
    "    for k in range(n):\n",
    "        \n",
    "        U[k, k:] = PA[k, k:] - L[k,:k] @ U[:k,k:]\n",
    "        L[(k+1):,k] = (PA[(k+1):,k] - L[(k+1):,:] @ U[:,k]) / U[k, k]\n",
    "        \n",
    "    return P, L, U"
   ]
  },
  {
   "cell_type": "markdown",
   "metadata": {},
   "source": [
    "#### Crout Method\n",
    "\n",
    "**Steps**\n",
    "\n",
    "1] For k = 1,2,...,n do steps 2-3,5\n",
    "\n",
    "2] Set $ l_{kk} = a_{kk} - \\sum_{m=1}^{k-1} l_{km} u_{mk} $\n",
    "\n",
    "3] For j = k, k+1,..., n do step 4\n",
    "\n",
    "4] $ u_{kj} = ( a_{kj} - \\sum_{m=1}^{k-1} l_{km} u_{mj} ) / l_{kk} $\n",
    "\n",
    "5] For i = k+1, k+2,...,n do step 6\n",
    "\n",
    "6] $ l_{ik} = \\frac{1}{u_{kk}} (a_{ik} - \\sum_{m=1}^{k-1} l_{im} u_{mk} ) $"
   ]
  },
  {
   "cell_type": "code",
   "execution_count": 127,
   "metadata": {},
   "outputs": [],
   "source": [
    "def lu_decomposition_Crout(A):\n",
    "    \n",
    "    n = len(A)\n",
    "    \n",
    "    # Create zero matrices for L and U\n",
    "    L = np.zeros((n,n))\n",
    "    U = np.zeros((n,n))\n",
    "    \n",
    "    # Create the pivot matrix P and the multipled matrix PA                                                                                                                                                                                            \n",
    "    P = pivot_matrix(A)\n",
    "    PA = np.dot(P,A)\n",
    "    \n",
    "    # Perform the LU Decomposition  \n",
    "    for k in range(n):\n",
    "        \n",
    "        L[k, k] = PA[k, k] - L[k, :] @ U[:, k]\n",
    "        \n",
    "        U[k, k:] = (PA[k, k:] - L[k, :k] @ U[:k, k:]) / L[k, k]\n",
    "        L[(k+1):, k] = (PA[(k+1):, k] - L[(k+1):, :] @ U[:, k]) / U[k, k]\n",
    "    \n",
    "    return P, L, U"
   ]
  },
  {
   "cell_type": "code",
   "execution_count": 128,
   "metadata": {},
   "outputs": [],
   "source": [
    "def forward_sub(L, b):\n",
    "    \n",
    "    #Get number of rows\n",
    "    n = L.shape[0]\n",
    "    \n",
    "    #Allocating space for the solution vector\n",
    "    y = np.zeros_like(b, dtype=np.double);\n",
    "    \n",
    "    #Here we perform the forward-substitution.  \n",
    "    #Initializing  with the first row.\n",
    "    y[0] = b[0] / L[0, 0]\n",
    "    \n",
    "    #Looping over rows in reverse (from the bottom  up),\n",
    "    #starting with the second to last row, because  the \n",
    "    #last row solve was completed in the last step.\n",
    "    for i in range(1, n):\n",
    "        y[i] = (b[i] - np.dot(L[i,:i], y[:i])) / L[i,i]\n",
    "        \n",
    "    return y"
   ]
  },
  {
   "cell_type": "code",
   "execution_count": 129,
   "metadata": {},
   "outputs": [],
   "source": [
    "def backward_sub(U, y):\n",
    "    \n",
    "    #Number of rows\n",
    "    n = U.shape[0]\n",
    "    \n",
    "    #Allocating space for the solution vector\n",
    "    x = np.zeros_like(y, dtype=np.double);\n",
    "    \n",
    "    #Here we perform the back-substitution.  \n",
    "    #Initializing with the last row.\n",
    "    x[-1] = y[-1] / U[-1, -1]\n",
    "    \n",
    "    #Looping over rows in reverse (from the bottom up), \n",
    "    #starting with the second to last row, because the \n",
    "    #last row solve was completed in the last step.\n",
    "    for i in range(n-2, -1, -1):\n",
    "        x[i] = (y[i] - np.dot(U[i,i:], x[i:])) / U[i,i]\n",
    "        \n",
    "    return x"
   ]
  },
  {
   "cell_type": "code",
   "execution_count": 130,
   "metadata": {},
   "outputs": [],
   "source": [
    "def plu_solve_Doolittle(A, b):\n",
    "    \n",
    "    toc = time.time() #Start timer\n",
    "    \n",
    "    P, L, U = lu_decomposition_Doolittle(A)\n",
    "    \n",
    "    y = forward_sub(L, np.dot(P, b))\n",
    "    \n",
    "    x = backward_sub(U, y)\n",
    "    \n",
    "    tic = time.time() #End timer\n",
    "    \n",
    "    TimeTaken = tic - toc\n",
    "    \n",
    "    return L, U, x, TimeTaken"
   ]
  },
  {
   "cell_type": "code",
   "execution_count": 131,
   "metadata": {},
   "outputs": [],
   "source": [
    "def plu_solve_Crout(A, b):\n",
    "    \n",
    "    toc = time.time() #Start timer\n",
    "    \n",
    "    P, L, U = lu_decomposition_Crout(A)\n",
    "    \n",
    "    y = forward_sub(L, np.dot(P, b))\n",
    "    \n",
    "    x = backward_sub(U, y)\n",
    "    \n",
    "    tic = time.time() #End timer\n",
    "    \n",
    "    TimeTaken = tic - toc\n",
    "    \n",
    "    return L, U, x, TimeTaken"
   ]
  },
  {
   "cell_type": "code",
   "execution_count": 132,
   "metadata": {},
   "outputs": [
    {
     "data": {
      "text/plain": [
       "(array([[ 1.        ,  0.        ,  0.        ,  0.        ],\n",
       "        [-0.1       ,  1.        ,  0.        ,  0.        ],\n",
       "        [ 0.2       , -0.0733945 ,  1.        ,  0.        ],\n",
       "        [ 0.        ,  0.27522936, -0.08173077,  1.        ]]),\n",
       " array([[10.        , -1.        ,  2.        ,  0.        ],\n",
       "        [ 0.        , 10.9       , -0.8       ,  3.        ],\n",
       "        [ 0.        ,  0.        ,  9.5412844 , -0.77981651],\n",
       "        [ 0.        ,  0.        ,  0.        ,  7.11057692]]),\n",
       " array([[ 1.],\n",
       "        [ 2.],\n",
       "        [-1.],\n",
       "        [ 1.]]),\n",
       " 0.002073049545288086)"
      ]
     },
     "execution_count": 132,
     "metadata": {},
     "output_type": "execute_result"
    }
   ],
   "source": [
    "plu_solve_Doolittle(A,b)"
   ]
  },
  {
   "cell_type": "code",
   "execution_count": 133,
   "metadata": {},
   "outputs": [
    {
     "data": {
      "text/plain": [
       "(array([[10.        ,  0.        ,  0.        ,  0.        ],\n",
       "        [-1.        , 10.9       ,  0.        ,  0.        ],\n",
       "        [ 2.        , -0.8       ,  9.5412844 ,  0.        ],\n",
       "        [ 0.        ,  3.        , -0.77981651,  7.11057692]]),\n",
       " array([[ 1.        , -0.1       ,  0.2       ,  0.        ],\n",
       "        [ 0.        ,  1.        , -0.0733945 ,  0.27522936],\n",
       "        [ 0.        ,  0.        ,  1.        , -0.08173077],\n",
       "        [ 0.        ,  0.        ,  0.        ,  1.        ]]),\n",
       " array([[ 1.],\n",
       "        [ 2.],\n",
       "        [-1.],\n",
       "        [ 1.]]),\n",
       " 0.0009558200836181641)"
      ]
     },
     "execution_count": 133,
     "metadata": {},
     "output_type": "execute_result"
    }
   ],
   "source": [
    "plu_solve_Crout(A,b)"
   ]
  },
  {
   "cell_type": "markdown",
   "metadata": {},
   "source": [
    "**-----------------------------------------------------------------------------------------------------------------------------------\n",
    "\n",
    "**-----------------------------------------------------------------------------------------------------------------------------------"
   ]
  },
  {
   "cell_type": "markdown",
   "metadata": {},
   "source": [
    "# Q3 Glass-Seidel Method\n",
    "\n",
    "### Write a program to solve $(*)$ : Use an initial guess of $ x^{(0)} $ = (0, 0, 0, 0) and then repeat with $ x^{(0)} $ = (1, 1, 1, 1) ; examine if one converges quicker than the other with consistency to four decimal places. At each iteration step, the solution vector should be printed together with use of the $l_\\infty $ norm."
   ]
  },
  {
   "cell_type": "code",
   "execution_count": 134,
   "metadata": {},
   "outputs": [],
   "source": [
    "def seidel(A, x, b):\n",
    "    \n",
    "    n = len(A)\n",
    "    \n",
    "    # Create the pivot matrix P and the multipled matrix PA                                                                                                                                                                                            \n",
    "    P = pivot_matrix(A)\n",
    "    PA = np.dot(P,A)\n",
    "    \n",
    "    for j in range(n):\n",
    "        # temp variable d to store b[j] \n",
    "        #d = b[j]\n",
    "        d = 0\n",
    "        \n",
    "        # to calculate respective x(i), y(i), z(i) \n",
    "        for i in range(n):      \n",
    "            if(i != j): \n",
    "                d = d + (PA[j][i] * x[i])\n",
    "                \n",
    "        # updating the value of our solution         \n",
    "        x[j] = (b[j] - d) / PA[j][j]\n",
    "        \n",
    "    # returning our updated solution            \n",
    "    return x "
   ]
  },
  {
   "cell_type": "code",
   "execution_count": 147,
   "metadata": {},
   "outputs": [],
   "source": [
    "def seidel_solution(A, x, tolerance):\n",
    "    \n",
    "    # Create the pivot matrix P and the multipled matrix PA                                                                                                                                                                                            \n",
    "    P = pivot_matrix(A)\n",
    "    PA = np.dot(P,A)\n",
    "    \n",
    "    # Create space for Time\n",
    "    TimeTaken_a = []\n",
    "    \n",
    "    # Max loop number\n",
    "    n = 100\n",
    "    \n",
    "    #loop run for m times depending on m the error value \n",
    "    for i in range(n):  \n",
    "        \n",
    "        x_old = x.copy() #Make a copy of previous x\n",
    "        toc = time.time() #Start timer\n",
    "        iteration_number = i+1\n",
    "        x = seidel(A, x, np.dot(P,b)) #Calculate x \n",
    "        tic = time.time() #End timer\n",
    "        \n",
    "        #Time taken\n",
    "        TimeTaken_i = tic - toc\n",
    "        TimeTaken_a.append(TimeTaken_i)\n",
    "        TimeTaken = np.array(TimeTaken_a)\n",
    "        \n",
    "        # Convergence     \n",
    "        x_diff = max(abs(x - x_old))\n",
    "        max_x = max(abs(x))\n",
    "        convergence = x_diff / max_x\n",
    "        \n",
    "        #print each time the updated solution \n",
    "        print_iteration_number = print(\"Iteration number = \", iteration_number)\n",
    "        print_x = print(\"Solution vector 𝑥̃ (4.dp) =\", np.around(x.T,4))\n",
    "        print_l_inf = print(\"Convergence using 𝑙∞ norm =\",convergence)\n",
    "        \n",
    "        Break = print(\"------------------------------------------------------------------\")\n",
    "        \n",
    "        #break loop if convergence is less than tolerance\n",
    "        if abs(convergence) < tolerance and iteration_number > 0:\n",
    "            break    \n",
    "    \n",
    "    print(\"Total time for convergence (seconds) using 𝑙∞ norm =\", sum(TimeTaken))\n",
    "    \n",
    "    return"
   ]
  },
  {
   "cell_type": "code",
   "execution_count": 145,
   "metadata": {
    "scrolled": false
   },
   "outputs": [
    {
     "name": "stdout",
     "output_type": "stream",
     "text": [
      "Iteration number =  1\n",
      "Solution vector 𝑥̃ (4.dp) = [[ 0.6     2.3273 -0.9873  0.8789]]\n",
      "Convergence using 𝑙∞ norm = [1.]\n",
      "------------------------------------------------------------------\n",
      "Iteration number =  2\n",
      "Solution vector 𝑥̃ (4.dp) = [[ 1.0302  2.0369 -1.0145  0.9843]]\n",
      "Convergence using 𝑙∞ norm = [0.21119043]\n",
      "------------------------------------------------------------------\n",
      "Iteration number =  3\n",
      "Solution vector 𝑥̃ (4.dp) = [[ 1.0066  2.0036 -1.0025  0.9984]]\n",
      "Convergence using 𝑙∞ norm = [0.01666188]\n",
      "------------------------------------------------------------------\n",
      "Iteration number =  4\n",
      "Solution vector 𝑥̃ (4.dp) = [[ 1.0009  2.0003 -1.0003  0.9998]]\n",
      "Convergence using 𝑙∞ norm = [0.0028616]\n",
      "------------------------------------------------------------------\n",
      "Iteration number =  5\n",
      "Solution vector 𝑥̃ (4.dp) = [[ 1.0001  2.     -1.      1.    ]]\n",
      "Convergence using 𝑙∞ norm = [0.00038485]\n",
      "------------------------------------------------------------------\n",
      "Iteration number =  6\n",
      "Solution vector 𝑥̃ (4.dp) = [[ 1.  2. -1.  1.]]\n",
      "Convergence using 𝑙∞ norm = [4.1458288e-05]\n",
      "------------------------------------------------------------------\n",
      "Total time for convergence (seconds) using 𝑙∞ norm = 0.0021600723266601562\n"
     ]
    }
   ],
   "source": [
    "x_initial_guess = np.array([[0.0000],[0.0000],[0.0000],[0.0000]])\n",
    "tolerance = 0.0001\n",
    "\n",
    "seidel_solution(A, x_initial_guess, tolerance)"
   ]
  },
  {
   "cell_type": "code",
   "execution_count": 146,
   "metadata": {},
   "outputs": [
    {
     "name": "stdout",
     "output_type": "stream",
     "text": [
      "Iteration number =  1\n",
      "Solution vector 𝑥̃ (4.dp) = [[ 0.5     2.1364 -0.8864  0.9631]]\n",
      "Convergence using 𝑙∞ norm = [0.88297872]\n",
      "------------------------------------------------------------------\n",
      "Iteration number =  2\n",
      "Solution vector 𝑥̃ (4.dp) = [[ 0.9909  2.0196 -0.9999  0.9927]]\n",
      "Convergence using 𝑙∞ norm = [0.24307527]\n",
      "------------------------------------------------------------------\n",
      "Iteration number =  3\n",
      "Solution vector 𝑥̃ (4.dp) = [[ 1.0019  2.0022 -1.0009  0.9991]]\n",
      "Convergence using 𝑙∞ norm = [0.00868709]\n",
      "------------------------------------------------------------------\n",
      "Iteration number =  4\n",
      "Solution vector 𝑥̃ (4.dp) = [[ 1.0004  2.0002 -1.0002  0.9999]]\n",
      "Convergence using 𝑙∞ norm = [0.00098742]\n",
      "------------------------------------------------------------------\n",
      "Iteration number =  5\n",
      "Solution vector 𝑥̃ (4.dp) = [[ 1.0001  2.     -1.      1.    ]]\n",
      "Convergence using 𝑙∞ norm = [0.00017384]\n",
      "------------------------------------------------------------------\n",
      "Iteration number =  6\n",
      "Solution vector 𝑥̃ (4.dp) = [[ 1.  2. -1.  1.]]\n",
      "Convergence using 𝑙∞ norm = [2.29360057e-05]\n",
      "------------------------------------------------------------------\n",
      "Total time for convergence (seconds) using 𝑙∞ norm = 0.002123594284057617\n"
     ]
    }
   ],
   "source": [
    "x_initial_guess = np.array([[1.0000],[1.0000],[1.0000],[1.0000]])\n",
    "tolerance = 0.0001\n",
    "\n",
    "seidel_solution(A, x_initial_guess, tolerance)"
   ]
  },
  {
   "cell_type": "markdown",
   "metadata": {},
   "source": [
    "**-----------------------------------------------------------------------------------------------------------------------------------\n"
   ]
  },
  {
   "cell_type": "markdown",
   "metadata": {},
   "source": [
    "# ANALYSIS"
   ]
  },
  {
   "cell_type": "code",
   "execution_count": 148,
   "metadata": {},
   "outputs": [],
   "source": [
    "def Analysis_seidel_solution(A, x, tolerance):\n",
    "    \n",
    "    # Create the pivot matrix P and the multipled matrix PA                                                                                                                                                                                            \n",
    "    P = pivot_matrix(A)\n",
    "    PA = np.dot(P,A)\n",
    "    \n",
    "    # Create space for Time\n",
    "    TimeTaken_a = []\n",
    "    Iterations = []\n",
    "    Convergence_i = []\n",
    "    \n",
    "    # Max loop number\n",
    "    n = 100\n",
    "    \n",
    "    #loop run for m times depending on m the error value \n",
    "    for i in range(n):  \n",
    "        \n",
    "        x_old = x.copy() #Make a copy of previous x\n",
    "        toc = time.time() #Start timer\n",
    "        x = seidel(A, x, np.dot(P,b)) #Calculate x \n",
    "        tic = time.time() #End timer\n",
    "        \n",
    "        #Time taken\n",
    "        TimeTaken_i = tic - toc\n",
    "        TimeTaken_a.append(TimeTaken_i)\n",
    "        TimeTaken = np.array(TimeTaken_a)\n",
    "        \n",
    "        #Iteration Count\n",
    "        iteration_number = i+1\n",
    "        Iterations.append(iteration_number)\n",
    "        Iterations_max = np.array(Iterations)\n",
    "        \n",
    "        # Convergence     \n",
    "        x_diff = max(abs(x - x_old))\n",
    "        max_x = max(abs(x))\n",
    "        convergence = x_diff / max_x\n",
    "        Convergence_i.append(convergence)\n",
    "        Convergence = np.array(Convergence_i)\n",
    "        \n",
    "        #break loop if convergence is less than tolerance\n",
    "        if abs(convergence) < tolerance and iteration_number > 0:\n",
    "            break    \n",
    "    \n",
    "    return Iterations_max, sum(TimeTaken), Convergence"
   ]
  },
  {
   "cell_type": "code",
   "execution_count": 41,
   "metadata": {},
   "outputs": [],
   "source": [
    "Analysis_x0 = np.array([[0.0000],[0.0000],[0.0000],[0.0000]])\n",
    "Analysis_x1 = np.array([[1.0000],[1.0000],[1.0000],[1.0000]])\n",
    "\n",
    "Iterations_0, speed, Convergence_0  = Analysis_seidel_solution(A, Analysis_x0, tolerance)\n",
    "Iterations_1, speed, Convergence_1 = Analysis_seidel_solution(A, Analysis_x1, tolerance)"
   ]
  },
  {
   "cell_type": "markdown",
   "metadata": {},
   "source": [
    "## Computational Time (Speed)"
   ]
  },
  {
   "cell_type": "code",
   "execution_count": 149,
   "metadata": {},
   "outputs": [],
   "source": [
    "def Average_Speed(A, Analysis_x0, tolerance):\n",
    "\n",
    "    speed_list = []\n",
    "\n",
    "    for i in range(10000):\n",
    "        speed_r = Analysis_seidel_solution(A, Analysis_x0, tolerance)[1]\n",
    "        speed_list.append(speed_r)\n",
    "        Speed = np.array(speed_list)\n",
    "\n",
    "    Avg_speed = np.mean(Speed)\n",
    "    \n",
    "    return np.mean(Speed), np.max(Speed), np.min(Speed)"
   ]
  },
  {
   "cell_type": "code",
   "execution_count": 37,
   "metadata": {},
   "outputs": [],
   "source": [
    "Analysis_x0 = np.array([[0.0000],[0.0000],[0.0000],[0.0000]])\n",
    "\n",
    "Avg_Time_0, Max_Time_0, Min_Time_0 = Average_Speed(A, Analysis_x0, tolerance)"
   ]
  },
  {
   "cell_type": "code",
   "execution_count": 38,
   "metadata": {},
   "outputs": [],
   "source": [
    "Analysis_x1 = np.array([[1.0000],[1.0000],[1.0000],[1.0000]])\n",
    "\n",
    "Avg_Time_1, Max_Time_1, Min_Time_1 = Average_Speed(A, Analysis_x1, tolerance)"
   ]
  },
  {
   "cell_type": "markdown",
   "metadata": {},
   "source": [
    "## Table 1: Gauss-Seidel (GS) initial guess comparison"
   ]
  },
  {
   "cell_type": "code",
   "execution_count": 150,
   "metadata": {},
   "outputs": [
    {
     "name": "stdout",
     "output_type": "stream",
     "text": [
      "TABLE 1\n",
      "\n",
      "Method      Average Time    Fastest Time    Slowest Time    Iterations\n",
      "--------  --------------  --------------  --------------  ------------\n",
      "GS x_0       0.000159224     0.000117779      0.0113299              6\n",
      "GS x_1       0.00013531      0.000118017      0.00385451             6\n",
      "\n",
      "Note 1: Time refers to Computation Time\n",
      "Note 2: Iterations refers to the number of Iterations required for convergence of 𝑥̃ to x to 4.dp\n"
     ]
    }
   ],
   "source": [
    "from tabulate import tabulate\n",
    "\n",
    "table = [['GS x_0', Avg_Time_0, Min_Time_0, Max_Time_0, max(Iterations_0)],\n",
    "         ['GS x_1', Avg_Time_1, Min_Time_1, Max_Time_1, max(Iterations_1)]]\n",
    "         \n",
    "header = ['Method', 'Average Time', 'Fastest Time', 'Slowest Time', 'Iterations']\n",
    "\n",
    "print('TABLE 1')\n",
    "print()\n",
    "print(tabulate(table,headers=header))\n",
    "print()\n",
    "print('Note 1: Time refers to Computation Time')\n",
    "print('Note 2: Iterations refers to the number of Iterations required for convergence of 𝑥̃ to x to 4.dp')"
   ]
  },
  {
   "cell_type": "markdown",
   "metadata": {},
   "source": [
    "## Comments and observations\n",
    "\n",
    "InitialGuess_0 $(x^{(0)}_0) = (0,0,0,0) $,  InitialGuess_1 $ (x^{(0)}_1) = (1,1,1,1) $\n",
    "\n",
    "As can be seen from Table 1, typically $ x^{(0)}_0 $ seems to have a marginally slower convergence **speed** than $ x^{(0)}_1 $. Although at their quickest both are very similar, it seems that at their slowest $ x^{(0)}_1 $ was three times quicker to converge than $ x^{(0)}_0 $.\n",
    "\n",
    "In terms of **accuracy** given that the pivoted matrix (PA) is strictly diagonally dominant (proof of this can be found directly below) then for any choice of the initial guess $ x^{(0)} $ the sequence of solutions generated by Gauss-Seidel (GS) converges to the unique solution."
   ]
  },
  {
   "cell_type": "code",
   "execution_count": 153,
   "metadata": {},
   "outputs": [
    {
     "name": "stdout",
     "output_type": "stream",
     "text": [
      "This matrix IS strictly diagonally dominant.\n",
      "\n",
      "For strict diagonal dominance the sum of the absolute values of the diagonal row elements minus the sum of the absolute values of the non-diagonal elements should be > 0 for ALL rows. \n",
      " \n",
      "Results for each row shown below:\n",
      "D - S for Row 0 : 7.0\n",
      "D - S for Row 1 : 6.0\n",
      "D - S for Row 2 : 6.0\n",
      "D - S for Row 3 : 4.0\n"
     ]
    }
   ],
   "source": [
    "# Proving pivoted matrix PA is strictly diagonally dominant\n",
    "\n",
    "P = pivot_matrix(A)\n",
    "PA = np.dot(P,A)\n",
    "\n",
    "SDD(PA)"
   ]
  },
  {
   "cell_type": "markdown",
   "metadata": {},
   "source": [
    "# Q4 SOR:\n",
    "## Using an acceleration factor $ \\omega = 1.1 $, repeat Q3 above for $ x^{(0)} = (0,0,0,0) $."
   ]
  },
  {
   "cell_type": "code",
   "execution_count": 154,
   "metadata": {},
   "outputs": [],
   "source": [
    "def SOR(A, x, b, omega):\n",
    "    \n",
    "    n = len(A)\n",
    "    \n",
    "    # Create the pivot matrix P and the multipled matrix PA                                                                                                                                                                                            \n",
    "    P = pivot_matrix(A)\n",
    "    PA = np.dot(P,A)\n",
    "    \n",
    "    for j in range(n):\n",
    "        # temp variable d to store b[j] \n",
    "        d = 0\n",
    "    \n",
    "        # to calculate respective x(i), y(i), z(i) \n",
    "        for i in range(n):      \n",
    "            if(i != j): \n",
    "                d = d + (PA[j][i] * x[i])\n",
    "        \n",
    "        # updating the value of our solution         \n",
    "        x[j] = ((1 - omega) * x[j]) + ((omega / PA[j][j]) * (b[j] - d))\n",
    "        \n",
    "    # returning our updated solution            \n",
    "    return x "
   ]
  },
  {
   "cell_type": "code",
   "execution_count": 159,
   "metadata": {},
   "outputs": [],
   "source": [
    "def SOR_solution(A, x, omega, tolerance):\n",
    "    \n",
    "    # Create the pivot matrix P and the multipled matrix PA                                                                                                                                                                                            \n",
    "    P = pivot_matrix(A)\n",
    "    PA = np.dot(P,A)\n",
    "    Pb = np.dot(P,b)\n",
    "    \n",
    "    # Create space for L_inf, Time and Residual\n",
    "    l_inf = []\n",
    "    TimeTaken_a = []\n",
    "    Residual_a = []\n",
    "    \n",
    "    # Loop number - will need to be set to stop when under tolerance\n",
    "    n = 100\n",
    "    \n",
    "    #loop run for m times depending on m the error value \n",
    "    for i in range(n):   \n",
    "        \n",
    "        x_old = x.copy() #Make a copy of previous x\n",
    "        toc = time.time() #Start timer\n",
    "        iteration_number = i+1\n",
    "        x = SOR(A, x, np.dot(P,b), omega) #Calculate x\n",
    "        tic = time.time() #End timer\n",
    "    \n",
    "        # Time taken\n",
    "        TimeTaken_i = tic - toc\n",
    "        TimeTaken_a.append(TimeTaken_i)\n",
    "        TimeTaken = np.array(TimeTaken_a)\n",
    "\n",
    "        # Convergence\n",
    "        x_diff = max(abs(x - x_old))\n",
    "        max_x = max(abs(x))\n",
    "        convergence = x_diff / max_x\n",
    "               \n",
    "        # Residual\n",
    "        Residual = Pb - np.dot(PA,x)\n",
    "        Residual_max = max(abs(Pb - np.dot(PA,x)))\n",
    "        \n",
    "        # printing updated solution for each iteration\n",
    "        print_iteration_number = print(\"Iteration number = \", iteration_number)\n",
    "        print_x = print(\"Solution vector 𝑥̃ (4.dp) =\", np.around(x.T,4))\n",
    "        print_l_inf_norm_E = print(\"Iteration convergence of 𝑥̃ = \", np.around(convergence,6))\n",
    "        Residual_i = print(\"Residual(r) from r = b - A𝑥̃  using 𝑙∞ norm = \", np.around(Residual_max,6))\n",
    "        Break = print(\"------------------------------------------------------------------\")\n",
    "        \n",
    "        #break loop if convergence is less than tolerance\n",
    "        if convergence < tolerance and iteration_number > 0:\n",
    "            break\n",
    "    \n",
    "    print(\"Total time for convergence (seconds) of 𝑥̃ to x using 𝑙∞ norm =\", sum(TimeTaken))\n",
    "    \n",
    "    return "
   ]
  },
  {
   "cell_type": "code",
   "execution_count": 160,
   "metadata": {},
   "outputs": [
    {
     "name": "stdout",
     "output_type": "stream",
     "text": [
      "Iteration number =  1\n",
      "Solution vector 𝑥̃ (4.dp) = [[ 0.66    2.566  -1.0729  0.8565]]\n",
      "Iteration convergence of 𝑥̃ =  [1.]\n",
      "Residual(r) from r = b - A𝑥̃  using 𝑙∞ norm =  [6.208427]\n",
      "------------------------------------------------------------------\n",
      "Iteration number =  2\n",
      "Solution vector 𝑥̃ (4.dp) = [[ 1.1123  1.9904 -1.0343  1.0136]]\n",
      "Iteration convergence of 𝑥̃ =  [0.289196]\n",
      "Residual(r) from r = b - A𝑥̃  using 𝑙∞ norm =  [1.064167]\n",
      "------------------------------------------------------------------\n",
      "Iteration number =  3\n",
      "Solution vector 𝑥̃ (4.dp) = [[ 0.9952  1.993  -0.9948  1.0023]]\n",
      "Iteration convergence of 𝑥̃ =  [0.058735]\n",
      "Residual(r) from r = b - A𝑥̃  using 𝑙∞ norm =  [0.070926]\n",
      "------------------------------------------------------------------\n",
      "Iteration number =  4\n",
      "Solution vector 𝑥̃ (4.dp) = [[ 0.9986  2.0004 -0.9999  0.9996]]\n",
      "Iteration convergence of 𝑥̃ =  [0.003711]\n",
      "Residual(r) from r = b - A𝑥̃  using 𝑙∞ norm =  [0.014626]\n",
      "------------------------------------------------------------------\n",
      "Iteration number =  5\n",
      "Solution vector 𝑥̃ (4.dp) = [[ 1.0002  2.0001 -1.0001  1.    ]]\n",
      "Iteration convergence of 𝑥̃ =  [0.000804]\n",
      "Residual(r) from r = b - A𝑥̃  using 𝑙∞ norm =  [0.001434]\n",
      "------------------------------------------------------------------\n",
      "Iteration number =  6\n",
      "Solution vector 𝑥̃ (4.dp) = [[ 1.  2. -1.  1.]]\n",
      "Iteration convergence of 𝑥̃ =  [7.9e-05]\n",
      "Residual(r) from r = b - A𝑥̃  using 𝑙∞ norm =  [0.00013]\n",
      "------------------------------------------------------------------\n",
      "Total time for convergence (seconds) of 𝑥̃ to x using 𝑙∞ norm = 0.0034847259521484375\n"
     ]
    }
   ],
   "source": [
    "x_initial_guess_SOR = np.array([[0.0000],[0.0000],[0.0000],[0.0000]])\n",
    "omega = 1.1\n",
    "tolerance = 0.0001\n",
    "\n",
    "SOR_solution(A, x_initial_guess_SOR, omega, tolerance)"
   ]
  },
  {
   "cell_type": "markdown",
   "metadata": {},
   "source": [
    "**-----------------------------------------------------------------------------------------------------------------------------------\n",
    "\n",
    "**-----------------------------------------------------------------------------------------------------------------------------------"
   ]
  },
  {
   "cell_type": "markdown",
   "metadata": {},
   "source": [
    "# Q5: Include a report which discusses your results, together with observations of accuracy and computational efficiency."
   ]
  },
  {
   "cell_type": "markdown",
   "metadata": {},
   "source": [
    "# 5.1]\n",
    "Firstly I will analyse the results of the LU decomposition methods with the addition of the Cholesky method to provide a further comparison."
   ]
  },
  {
   "cell_type": "markdown",
   "metadata": {},
   "source": [
    "### Cholesky method for LU decomposition\n",
    "This method requires the starting matrix to be both symmetric and positive definite."
   ]
  },
  {
   "cell_type": "code",
   "execution_count": 62,
   "metadata": {},
   "outputs": [
    {
     "data": {
      "text/plain": [
       "True"
      ]
     },
     "execution_count": 62,
     "metadata": {},
     "output_type": "execute_result"
    }
   ],
   "source": [
    "# Test if Matrix PA is symmetric\n",
    "def is_symmetric(Matrix):\n",
    "    return (Matrix.transpose() == Matrix).all()\n",
    "\n",
    "is_symmetric(PA)"
   ]
  },
  {
   "cell_type": "code",
   "execution_count": 63,
   "metadata": {},
   "outputs": [
    {
     "data": {
      "text/plain": [
       "True"
      ]
     },
     "execution_count": 63,
     "metadata": {},
     "output_type": "execute_result"
    }
   ],
   "source": [
    "# Test if Matrix PA is positive definite\n",
    "def is_pos_def(Matrix):\n",
    "    return np.all(np.linalg.eigvals(Matrix) > 0)\n",
    "\n",
    "is_pos_def(PA)"
   ]
  },
  {
   "cell_type": "markdown",
   "metadata": {},
   "source": [
    "#### Cholesky Method steps\n",
    "\n",
    "1] For k = 1,2,...,n do steps 2-3\n",
    "\n",
    "2] Set $ l_{kk} = \\sqrt{a_{kk} - \\sum_{m=1}^{k-1} l_{km}^2} $\n",
    "\n",
    "3] For i = k, k+1,..., n do step 4\n",
    "\n",
    "4] $ l_{ik} = \\frac{1}{l_{kk}} (a_{ik} - \\sum_{m=1}^{k-1} l_{im} l_{mk} ) $"
   ]
  },
  {
   "cell_type": "code",
   "execution_count": 161,
   "metadata": {},
   "outputs": [],
   "source": [
    "def cholesky(A):\n",
    "    \n",
    "    n = len(A)\n",
    "    \n",
    "    # Create zero matrices for L\n",
    "    L = [[0 for x in range(n + 1)]  \n",
    "            for y in range(n + 1)];\n",
    "    \n",
    "    # Create the pivot matrix P and the multipled matrix PA                                                                                                                                                                                            \n",
    "    P = pivot_matrix(A)\n",
    "    PA = np.dot(P,A)\n",
    "    \n",
    "    # Perform the Cholesky Decomposition  \n",
    "    for i in range(n):\n",
    "        for j in range(n+1):\n",
    "            sum1 = 0;\n",
    "            \n",
    "            # diagonals\n",
    "            if (j == i):\n",
    "                for k in range(j):\n",
    "                    sum1 = sum1 + pow(L[j][k],2);\n",
    "                L[j][j] = np.sqrt(PA[j][j] - sum1);\n",
    "            else:\n",
    "                \n",
    "                # Evaluating L[i,j] using L[j,j]\n",
    "                for k in range(j):\n",
    "                    sum1 = sum1 + (L[i][k] * L[j][k]);\n",
    "                if L[j][j] > 0:\n",
    "                    L[i][j] = (PA[i][j] - sum1) / L[j][j];    \n",
    "    \n",
    "    return P, L  "
   ]
  },
  {
   "cell_type": "code",
   "execution_count": 162,
   "metadata": {},
   "outputs": [],
   "source": [
    "def plu_solve_Cholesky(A, b):\n",
    "    \n",
    "    toc = time.time() #Start timer\n",
    "    \n",
    "    P, L_chol = cholesky(A)\n",
    "    L = np.array(L_chol)\n",
    "    L = L[0:len(L)-1,0:len(L)-1]\n",
    "    \n",
    "    U = L.T\n",
    "    \n",
    "    y = forward_sub(L, np.dot(P, b))\n",
    "    \n",
    "    x = backward_sub(U, y)\n",
    "    \n",
    "    tic = time.time() #End timer\n",
    "    \n",
    "    TimeTaken = tic - toc\n",
    "    \n",
    "    return L, U, x, TimeTaken"
   ]
  },
  {
   "cell_type": "code",
   "execution_count": 163,
   "metadata": {},
   "outputs": [
    {
     "data": {
      "text/plain": [
       "(array([[ 3.16227766,  0.        ,  0.        ,  0.        ],\n",
       "        [-0.31622777,  3.3015148 ,  0.        ,  0.        ],\n",
       "        [ 0.63245553, -0.24231301,  3.08889696,  0.        ],\n",
       "        [ 0.        ,  0.9086738 , -0.25245792,  2.6665665 ]]),\n",
       " array([[ 3.16227766, -0.31622777,  0.63245553,  0.        ],\n",
       "        [ 0.        ,  3.3015148 , -0.24231301,  0.9086738 ],\n",
       "        [ 0.        ,  0.        ,  3.08889696, -0.25245792],\n",
       "        [ 0.        ,  0.        ,  0.        ,  2.6665665 ]]),\n",
       " array([[ 1.],\n",
       "        [ 2.],\n",
       "        [-1.],\n",
       "        [ 1.]]),\n",
       " 0.0005512237548828125)"
      ]
     },
     "execution_count": 163,
     "metadata": {},
     "output_type": "execute_result"
    }
   ],
   "source": [
    "plu_solve_Cholesky(A,b)"
   ]
  },
  {
   "cell_type": "markdown",
   "metadata": {},
   "source": [
    "## ANALYSIS\n",
    "Compare LU Decomp methods for speed and accuracy (Doolittle, Crout and Cholesky)."
   ]
  },
  {
   "cell_type": "markdown",
   "metadata": {},
   "source": [
    "## #Speed"
   ]
  },
  {
   "cell_type": "code",
   "execution_count": 164,
   "metadata": {},
   "outputs": [],
   "source": [
    "def Average_Speed_LU(A, b):\n",
    "\n",
    "    speed_list_Do = []\n",
    "    speed_list_Cr = []\n",
    "    speed_list_Ch = []\n",
    "    \n",
    "    for i in range(10000):\n",
    "        speed_Do = plu_solve_Doolittle(A,b)[3]\n",
    "        speed_list_Do.append(speed_Do)\n",
    "        Speed_Do = np.array(speed_list_Do)\n",
    "        \n",
    "    for i in range(10000):\n",
    "        speed_Cr = plu_solve_Crout(A,b)[3]\n",
    "        speed_list_Cr.append(speed_Cr)\n",
    "        Speed_Cr = np.array(speed_list_Cr)\n",
    "        \n",
    "    for i in range(10000):\n",
    "        speed_Ch = plu_solve_Cholesky(A,b)[3]\n",
    "        speed_list_Ch.append(speed_Ch)\n",
    "        Speed_Ch = np.array(speed_list_Ch)\n",
    "    \n",
    "    return np.mean(Speed_Do), np.max(Speed_Do), np.min(Speed_Do), np.mean(Speed_Cr), np.max(Speed_Cr), np.min(Speed_Cr), np.mean(Speed_Ch), np.max(Speed_Ch), np.min(Speed_Ch)"
   ]
  },
  {
   "cell_type": "code",
   "execution_count": 85,
   "metadata": {},
   "outputs": [],
   "source": [
    "Avg_Time_Do, Slowest_Time_Do, Fastest_Time_Do, Avg_Time_Cr, Slowest_Time_Cr, Fastest_Time_Cr, Avg_Time_Ch, Slowest_Time_Ch, Fastest_Time_Ch = Average_Speed_LU(A,b)"
   ]
  },
  {
   "cell_type": "markdown",
   "metadata": {},
   "source": [
    "## Table 2: LU Decomposition methods speed comparison"
   ]
  },
  {
   "cell_type": "code",
   "execution_count": 169,
   "metadata": {},
   "outputs": [
    {
     "name": "stdout",
     "output_type": "stream",
     "text": [
      "LU Decomposition Method      Average Time    Fastest Time    Slowest Time\n",
      "-------------------------  --------------  --------------  --------------\n",
      "Doolittle                     0.000259581     0.000196695      0.00969601\n",
      "Crout                         0.00024352      0.000206709      0.0226922\n",
      "Cholesky                      0.000204187     0.000184059      0.011673\n",
      "\n",
      "Note 1: Time refers to Computation Time in seconds\n"
     ]
    }
   ],
   "source": [
    "table = [['Doolittle', Avg_Time_Do, Fastest_Time_Do, Slowest_Time_Do],\n",
    "         ['Crout', Avg_Time_Cr, Fastest_Time_Cr, Slowest_Time_Cr],\n",
    "         ['Cholesky', Avg_Time_Ch, Fastest_Time_Ch, Slowest_Time_Ch]]\n",
    "         \n",
    "header = ['LU Decomposition Method', 'Average Time', 'Fastest Time', 'Slowest Time']\n",
    "\n",
    "print(tabulate(table,headers=header))\n",
    "print()\n",
    "print('Note 1: Time refers to Computation Time in seconds')"
   ]
  },
  {
   "cell_type": "markdown",
   "metadata": {},
   "source": [
    "## Comments and observations\n",
    "\n",
    "As can be seen from Table 2, the Cholesky method is the quickest to compute on average with the Doolittle method computing just marginally slower than the Crout method on average. Although at their fastest the Doolittle method appears to be slightly quicker than Crout, Cholesky is still the quickest. At their slowest Crout took roughly double the amount of time as Cholesky and Doolittle. Overall, Doolittle and Crout are similar in terms of computational efficiency however Cholesky is the most efficient. \n",
    "\n",
    "These results are in line with expectations as the Cholesky method only uses half of the storage and computes half the number of operations, taking advantage of the symmetry in Matrix PA. In this method only the matrix L is required to compute a solution (as opposed to L and U for the other two methods). It should be mentioned that the Cholesky method can only be implemented if the matrix PA is **both symmetric and positive definite**. The pivoted matrix PA satisfies both these conditions as shown earlier.\n",
    "\n",
    "In terms of **accuracy** all of these direct methods find the exact and unique solution."
   ]
  },
  {
   "cell_type": "markdown",
   "metadata": {},
   "source": [
    "# 5.2]"
   ]
  },
  {
   "cell_type": "markdown",
   "metadata": {},
   "source": [
    "Secondly, I will now provide some discussion and analysis of my results for the Iterative Methods of solving linear systems."
   ]
  },
  {
   "cell_type": "code",
   "execution_count": 166,
   "metadata": {},
   "outputs": [],
   "source": [
    "def Analysis_SOR_solution(A, x, omega, tolerance):\n",
    "    \n",
    "    # Create the pivot matrix P and the multipled matrix PA                                                                                                                                                                                            \n",
    "    P = pivot_matrix(A)\n",
    "    PA = np.dot(P,A)\n",
    "    Pb = np.dot(P,b)\n",
    "    \n",
    "    # Create space for L_inf, Time and Residual\n",
    "    Iterations = []\n",
    "    TimeTaken_a = []\n",
    "    Convergence_i = []\n",
    "    Residual_a = []\n",
    "    \n",
    "    # Loop number - will need to be set to stop when under tolerance\n",
    "    n = 100\n",
    "    \n",
    "    #loop run for m times depending on m the error value \n",
    "    for i in range(n):   \n",
    "        \n",
    "        x_old = x.copy() #Make a copy of previous x\n",
    "        toc = time.time() #Start timer\n",
    "        x = SOR(A, x, np.dot(P,b), omega) #Calculate x\n",
    "        tic = time.time() #End timer\n",
    "    \n",
    "        # Time taken\n",
    "        TimeTaken_i = tic - toc\n",
    "        TimeTaken_a.append(TimeTaken_i)\n",
    "        TimeTaken = np.array(TimeTaken_a)\n",
    "        \n",
    "        #Iteration Count\n",
    "        iteration_number = i+1\n",
    "        Iterations.append(iteration_number)\n",
    "        Iterations_max = np.array(Iterations)\n",
    "        \n",
    "        # Convergence\n",
    "        x_diff = max(abs(x - x_old))\n",
    "        max_x = max(abs(x))\n",
    "        convergence = x_diff / max_x\n",
    "        Convergence_i.append(convergence)\n",
    "        Convergence = np.array(Convergence_i)\n",
    "        \n",
    "        # Residual\n",
    "        Residual_i = Pb - np.dot(PA,x)\n",
    "        Residual_max = max(abs(Pb - np.dot(PA,x)))\n",
    "        Residual_a.append(Residual_max)\n",
    "        Residual = np.array(Residual_a)\n",
    "        \n",
    "        #break loop if convergence is less than tolerance\n",
    "        if abs(convergence) < tolerance and iteration_number > 0:\n",
    "            break\n",
    "    \n",
    "    \n",
    "    return Iterations_max, sum(TimeTaken), Convergence, Residual"
   ]
  },
  {
   "cell_type": "code",
   "execution_count": 167,
   "metadata": {},
   "outputs": [],
   "source": [
    "#Calculating average speed\n",
    "def Average_Speed_SOR(A, Analysis_SOR_x0, omega, tolerance):\n",
    "\n",
    "    speed_list = []\n",
    "\n",
    "    for i in range(1000):\n",
    "        speed_r = Analysis_SOR_solution(A, Analysis_SOR_x0, omega, tolerance)[1]\n",
    "        speed_list.append(speed_r)\n",
    "        Speed = np.array(speed_list)\n",
    "\n",
    "    Avg_speed = np.mean(Speed)\n",
    "    \n",
    "    return np.mean(Speed), np.max(Speed), np.min(Speed)"
   ]
  },
  {
   "cell_type": "markdown",
   "metadata": {},
   "source": [
    "# Finding the optimal acceleration factor  $ \\omega $"
   ]
  },
  {
   "cell_type": "code",
   "execution_count": 89,
   "metadata": {},
   "outputs": [],
   "source": [
    "omega_101 = 1.01\n",
    "omega_102 = 1.02\n",
    "omega_103 = 1.03\n",
    "omega_104 = 1.04\n",
    "omega_105 = 1.05\n",
    "tolerance = 0.0001\n",
    "\n",
    "Analysis_SOR_x0 = np.array([[0.0000],[0.0000],[0.0000],[0.0000]])\n",
    "Iterations_W101S0, speed_W101S0, Convergence_W101S0, Residual_W101S0  = Analysis_SOR_solution(A, Analysis_SOR_x0, omega_101, tolerance)\n",
    "\n",
    "Analysis_SOR_x0 = np.array([[0.0000],[0.0000],[0.0000],[0.0000]])\n",
    "Iterations_W102S0, speed_W102S0, Convergence_W102S0, Residual_W102S0  = Analysis_SOR_solution(A, Analysis_SOR_x0, omega_102, tolerance)\n",
    "\n",
    "Analysis_SOR_x0 = np.array([[0.0000],[0.0000],[0.0000],[0.0000]])\n",
    "Iterations_W103S0, speed_W103S0, Convergence_W103S0, Residual_W103S0  = Analysis_SOR_solution(A, Analysis_SOR_x0, omega_103, tolerance)\n",
    "\n",
    "Analysis_SOR_x0 = np.array([[0.0000],[0.0000],[0.0000],[0.0000]])\n",
    "Iterations_W104S0, speed_W104S0, Convergence_W104S0, Residual_W104S0  = Analysis_SOR_solution(A, Analysis_SOR_x0, omega_104, tolerance)\n",
    "\n",
    "Analysis_SOR_x0 = np.array([[0.0000],[0.0000],[0.0000],[0.0000]])\n",
    "Iterations_W105S0, speed_W105S0, Convergence_W105S0, Residual_W105S0  = Analysis_SOR_solution(A, Analysis_SOR_x0, omega_105, tolerance)"
   ]
  },
  {
   "cell_type": "markdown",
   "metadata": {},
   "source": [
    "## Table 3: Finding the optimal 𝜔"
   ]
  },
  {
   "cell_type": "code",
   "execution_count": 170,
   "metadata": {
    "scrolled": true
   },
   "outputs": [
    {
     "name": "stdout",
     "output_type": "stream",
     "text": [
      "Omega       Iterations for convergence (4dp)    Final residual (r = b - A𝑥̃)\n",
      "--------  ----------------------------------  -----------------------------\n",
      "w = 1.01                                   6                    2.45943e-05\n",
      "w = 1.02                                   6                    8.54958e-06\n",
      "w = 1.03                                   5                    0.000127245\n",
      "w = 1.04                                   5                    0.00029586\n",
      "w = 1.05                                   6                    1.60525e-05\n"
     ]
    }
   ],
   "source": [
    "table = [['w = 1.01', max(Iterations_W101S0), min(Residual_W101S0)],\n",
    "         ['w = 1.02', max(Iterations_W102S0), min(Residual_W102S0)],\n",
    "         ['w = 1.03', max(Iterations_W103S0), min(Residual_W103S0)],\n",
    "         ['w = 1.04', max(Iterations_W104S0), min(Residual_W104S0)],\n",
    "         ['w = 1.05', max(Iterations_W105S0), min(Residual_W105S0)]]\n",
    "         \n",
    "header = ['Omega', 'Iterations for convergence (4dp)', 'Final residual (r = b - A𝑥̃)']\n",
    "\n",
    "print(tabulate(table,headers=header))"
   ]
  },
  {
   "cell_type": "markdown",
   "metadata": {},
   "source": [
    "As shown in Table 3, after experimenting with the value of $ \\omega $, the optimal value for $ \\omega $ is $ \\omega^* = 1.03 $ to 2.dp. This is because $ \\omega^* $ has the joint lowest number of iterations required for convergence (5) of our solution estimate $ \\tilde{x} $ to converge to the unique solution of x to 4.dp. $ \\omega^* $ also has a smaller residual (error) term than $ \\omega = 1.04 $ making it the optimal value (to 2.dp) for $ \\omega $."
   ]
  },
  {
   "cell_type": "markdown",
   "metadata": {},
   "source": [
    "## Comparing SOR, GS and SOR-optimal"
   ]
  },
  {
   "cell_type": "markdown",
   "metadata": {},
   "source": [
    "### Calculating Iterations, Residuals etc"
   ]
  },
  {
   "cell_type": "code",
   "execution_count": 100,
   "metadata": {},
   "outputs": [],
   "source": [
    "omega_11 = 1.1\n",
    "omega_10 = 1.0\n",
    "omega_12 = 1.03 # Optimal\n",
    "tolerance = 0.0001\n",
    "\n",
    "Analysis_SOR_x0 = np.array([[0.0000],[0.0000],[0.0000],[0.0000]])\n",
    "Analysis_SOR_x1 = np.array([[1.0000],[1.0000],[1.0000],[1.0000]])\n",
    "\n",
    "Iterations_W1S0, speed_W1S0, Convergence_W1S0, Residual_W1S0  = Analysis_SOR_solution(A, Analysis_SOR_x0, omega_11, tolerance)\n",
    "Iterations_W1S1, speed_W1S1, Convergence_W1S1, Residual_W1S1  = Analysis_SOR_solution(A, Analysis_SOR_x1, omega_11, tolerance)\n",
    "\n",
    "Analysis_SOR_x0 = np.array([[0.0000],[0.0000],[0.0000],[0.0000]])\n",
    "Analysis_SOR_x1 = np.array([[1.0000],[1.0000],[1.0000],[1.0000]])\n",
    "\n",
    "Iterations_W0S0, speed_W0S0, Convergence_W0S0, Residual_W0S0  = Analysis_SOR_solution(A, Analysis_SOR_x0, omega_10, tolerance)\n",
    "Iterations_W0S1, speed_W0S1, Convergence_W0S1, Residual_W0S1  = Analysis_SOR_solution(A, Analysis_SOR_x1, omega_10, tolerance)\n",
    "\n",
    "Analysis_SOR_x0 = np.array([[0.0000],[0.0000],[0.0000],[0.0000]])\n",
    "Analysis_SOR_x1 = np.array([[1.0000],[1.0000],[1.0000],[1.0000]])\n",
    "\n",
    "Iterations_W2S0, speed_W2S0, Convergence_W2S0, Residual_W2S0  = Analysis_SOR_solution(A, Analysis_SOR_x0, omega_12, tolerance)\n",
    "Iterations_W2S1, speed_W2S1, Convergence_W2S1, Residual_W2S1  = Analysis_SOR_solution(A, Analysis_SOR_x1, omega_12, tolerance)"
   ]
  },
  {
   "cell_type": "markdown",
   "metadata": {},
   "source": [
    "### Calculating Speed metrics"
   ]
  },
  {
   "cell_type": "code",
   "execution_count": 101,
   "metadata": {},
   "outputs": [],
   "source": [
    "Analysis_SOR_x0 = np.array([[0.0000],[0.0000],[0.0000],[0.0000]])\n",
    "Analysis_SOR_x1 = np.array([[1.0000],[1.0000],[1.0000],[1.0000]])\n",
    "\n",
    "Avg_Time_W1S0, Max_Time_W1S0, Min_Time_W1S0 = Average_Speed_SOR(A, Analysis_SOR_x0, omega_11, tolerance)\n",
    "Avg_Time_W1S1, Max_Time_W1S1, Min_Time_W1S1 = Average_Speed_SOR(A, Analysis_SOR_x1, omega_11, tolerance)\n",
    "\n",
    "Analysis_SOR_x0 = np.array([[0.0000],[0.0000],[0.0000],[0.0000]])\n",
    "Analysis_SOR_x1 = np.array([[1.0000],[1.0000],[1.0000],[1.0000]])\n",
    "\n",
    "Avg_Time_W0S0, Max_Time_W0S0, Min_Time_W0S0 = Average_Speed_SOR(A, Analysis_SOR_x0, omega_10, tolerance)\n",
    "Avg_Time_W0S1, Max_Time_W0S1, Min_Time_W0S1 = Average_Speed_SOR(A, Analysis_SOR_x1, omega_10, tolerance)\n",
    "\n",
    "Analysis_SOR_x0 = np.array([[0.0000],[0.0000],[0.0000],[0.0000]])\n",
    "Analysis_SOR_x1 = np.array([[1.0000],[1.0000],[1.0000],[1.0000]])\n",
    "\n",
    "Avg_Time_W2S0, Max_Time_W2S0, Min_Time_W2S0 = Average_Speed_SOR(A, Analysis_SOR_x0, omega_12, tolerance)\n",
    "Avg_Time_W2S1, Max_Time_W2S1, Min_Time_W2S1 = Average_Speed_SOR(A, Analysis_SOR_x1, omega_12, tolerance)"
   ]
  },
  {
   "cell_type": "markdown",
   "metadata": {},
   "source": [
    "## Plotting the Residuals on Graphs (1-4)"
   ]
  },
  {
   "cell_type": "code",
   "execution_count": 171,
   "metadata": {
    "scrolled": false
   },
   "outputs": [
    {
     "data": {
      "image/png": "[encoded data removed]",
      "text/plain": [
       "<Figure size 1440x1152 with 4 Axes>"
      ]
     },
     "metadata": {
      "needs_background": "light"
     },
     "output_type": "display_data"
    }
   ],
   "source": [
    "fig, ((ax1, ax2), (ax3, ax4)) = plt.subplots(2,2)\n",
    "\n",
    "ax1.plot(Iterations_W0S0, np.cumsum(Residual_W0S0), label = \"w1.0x0\")\n",
    "ax1.plot(Iterations_W1S0, np.cumsum(Residual_W1S0), label = \"w1.1x0\")\n",
    "ax1.plot(Iterations_W2S0, np.cumsum(Residual_W2S0), label = \"w1.03x0\")\n",
    "ax1.plot(Iterations_W0S1, np.cumsum(Residual_W0S1), label = \"w1.0x1\")\n",
    "ax1.plot(Iterations_W1S1, np.cumsum(Residual_W1S1), label = \"w1.1x1\")\n",
    "ax1.plot(Iterations_W2S1, np.cumsum(Residual_W2S1), label = \"w1.03x1\")\n",
    "ax1.set(xlabel = \"Iterations for Convergence to x (4dp)\")\n",
    "ax1.set(ylabel = \"Cumulative Residuals (r_cumulative)\")\n",
    "ax1.set_title(\"Graph 1: SOR method Cumulative Residuals with varying omega\")\n",
    "ax1.legend()\n",
    "\n",
    "ax2.plot(Iterations_W0S0, Residual_W0S0, label = \"w1.0x0\")\n",
    "ax2.plot(Iterations_W1S0, Residual_W1S0, label = \"w1.1x0\")\n",
    "ax2.plot(Iterations_W2S0, Residual_W2S0, label = \"w1.03x0\")\n",
    "ax2.plot(Iterations_W0S1, Residual_W0S1, label = \"w1.0x1\")\n",
    "ax2.plot(Iterations_W1S1, Residual_W1S1, label = \"w1.1x1\")\n",
    "ax2.plot(Iterations_W2S1, Residual_W2S1, label = \"w1.03x1\")\n",
    "ax2.set(xlabel = \"Iterations for Convergence to x (4dp)\")\n",
    "ax2.set(ylabel = \"Residuals (r)\")\n",
    "ax2.set_title(\"Graph 2: SOR method Residuals with varying omega\")\n",
    "ax2.legend()\n",
    "\n",
    "ax3.plot(Iterations_W0S0[2:], Residual_W0S0[2:], label = \"w1.0x0\")\n",
    "ax3.plot(Iterations_W1S0[2:], Residual_W1S0[2:], label = \"w1.1x0\")\n",
    "ax3.plot(Iterations_W2S0[2:], Residual_W2S0[2:], label = \"w1.03x0\")\n",
    "ax3.plot(Iterations_W0S1[2:], Residual_W0S1[2:], label = \"w1.0x1\")\n",
    "ax3.plot(Iterations_W1S1[2:], Residual_W1S1[2:], label = \"w1.1x1\")\n",
    "ax3.plot(Iterations_W2S1[2:], Residual_W2S1[2:], label = \"w1.03x1\")\n",
    "ax3.set(xlabel = \"Iterations for Convergence to x (4dp)\")\n",
    "ax3.set(xticks = ([3,4,5,6]))\n",
    "ax3.set(ylabel = \"Residuals (r)\")\n",
    "ax3.set_title(\"Graph 3: SOR method Residuals from Iteration 3 onwards\")\n",
    "ax3.legend()\n",
    "\n",
    "ax4.plot(Iterations_W0S0[3:], (Residual_W0S0)[3:], label = \"w1.0x0\")\n",
    "ax4.plot(Iterations_W1S0[3:], (Residual_W1S0)[3:], label = \"w1.1x0\")\n",
    "ax4.plot(Iterations_W2S0[3:], (Residual_W2S0)[3:], label = \"w1.03x0\")\n",
    "ax4.plot(Iterations_W0S1[3:], (Residual_W0S1)[3:], label = \"w1.0x1\")\n",
    "ax4.plot(Iterations_W1S1[3:], (Residual_W1S1)[3:], label = \"w1.1x1\")\n",
    "ax4.plot(Iterations_W2S1[3:], (Residual_W2S1)[3:], label = \"w1.03x1\")\n",
    "ax4.set(xlabel = \"Iterations for Convergence to x (4dp)\")\n",
    "ax4.set(xticks = ([4,5,6]))\n",
    "ax4.set(ylabel = \"Cumulative Residuals (r_cumulative)\")\n",
    "ax4.set_title(\"Graph 4: SOR method Cumulative Residuals from Iteration 4 onwards\")\n",
    "ax4.legend()\n",
    "\n",
    "fig.set_figheight(16) \n",
    "fig.set_figwidth(20)"
   ]
  },
  {
   "cell_type": "markdown",
   "metadata": {},
   "source": [
    "The above graphs show the plots of residual errors and cumulative residual errors per iteration. The graphs help to visualize the progression of the errors as our solutions iterate closer to the unique solution of x. Graph 1 shows the cumulative residuals and along with Graphs 3 and 4 highlight the optimal acceleration factor of $ \\omega = 1.03 $ and its possession of the smallest error terms."
   ]
  },
  {
   "cell_type": "markdown",
   "metadata": {},
   "source": [
    "## Table 4: Comparing Iterative Methods"
   ]
  },
  {
   "cell_type": "code",
   "execution_count": 172,
   "metadata": {},
   "outputs": [
    {
     "name": "stdout",
     "output_type": "stream",
     "text": [
      "Method             Average Time    Fastest Time    Slowest Time    Iterations    Residual (r)\n",
      "---------------  --------------  --------------  --------------  ------------  --------------\n",
      "SOR_x0_𝜔=1.1        0.000151225     0.00128675      0.000130653             6     0.0001296\n",
      "SOR_x1_𝜔=1.1        0.000139076     0.00091958      0.000129938             6     0.000122392\n",
      "SOR_x0_𝜔=1.0=GS     0.000140798     0.000830173     0.0001297               6     7.69731e-05\n",
      "SOR_x1_𝜔=1.0=GS     0.000156107     0.00131655      0.000130653             6     4.88888e-05\n",
      "SOR_x0_𝜔=1.03       0.000141191     0.000693321     0.0001297               5     0.000127245\n",
      "SOR_x1_𝜔=1.03       0.000147391     0.000696898     0.000129938             5     7.13948e-05\n",
      "\n",
      "Note 0: Method name formula = SOR_x + initialguess + value-of-omega\n",
      "Note 1: Time refers to Computation Time\n",
      "Note 2: Iterations refers to the number of Iterations required for convergence of 𝑥̃ to x (to 4.dp)\n",
      "Note 3: Residual refers to the final residual error (r = b - A𝑥̃)\n"
     ]
    }
   ],
   "source": [
    "from tabulate import tabulate\n",
    "\n",
    "table = [['SOR_x0_𝜔=1.1', Avg_Time_W1S0, Max_Time_W1S0, Min_Time_W1S0, max(Iterations_W1S0), min(Residual_W1S0)],\n",
    "         ['SOR_x1_𝜔=1.1', Avg_Time_W1S1, Max_Time_W1S1, Min_Time_W1S1, max(Iterations_W1S1), min(Residual_W1S1)],\n",
    "         ['SOR_x0_𝜔=1.0=GS', Avg_Time_W0S0, Max_Time_W0S0, Min_Time_W0S0, max(Iterations_W0S0), min(Residual_W0S0)],\n",
    "         ['SOR_x1_𝜔=1.0=GS', Avg_Time_W0S1, Max_Time_W0S1, Min_Time_W0S1, max(Iterations_W0S1), min(Residual_W0S1)],\n",
    "         ['SOR_x0_𝜔=1.03', Avg_Time_W2S0, Max_Time_W2S0, Min_Time_W2S0, max(Iterations_W2S0), min(Residual_W2S0)],\n",
    "         ['SOR_x1_𝜔=1.03', Avg_Time_W2S1, Max_Time_W2S1, Min_Time_W2S1, max(Iterations_W2S1), min(Residual_W2S1)]]\n",
    "         \n",
    "header = ['Method', 'Average Time', 'Fastest Time', 'Slowest Time', 'Iterations', 'Residual (r)']\n",
    "\n",
    "print(tabulate(table,headers=header))\n",
    "print()\n",
    "print('Note 0: Method name formula = SOR_x + initialguess + value-of-omega')\n",
    "print('Note 1: Time refers to Computation Time')\n",
    "print('Note 2: Iterations refers to the number of Iterations required for convergence of 𝑥̃ to x (to 4.dp)')\n",
    "print('Note 3: Residual refers to the final residual error (r = b - A𝑥̃)')"
   ]
  },
  {
   "cell_type": "markdown",
   "metadata": {},
   "source": [
    "## Comments and observations\n",
    "\n",
    "InitialGuess_0 $(x^{(0)}_0) = (0,0,0,0) $, InitialGuess_1 $(x^{(0)}_1) = (1,1,1,1) $\n",
    "\n",
    "As can be seen from Table 4 the Successive Over-relaxation (SOR) method with an $ \\omega = 1.1 $ is not quicker in terms of convergence than the Gauss-Seidel (GS) method (SOR with $ \\omega = 1.0 $). Both mentioned methods take 6 iterations in order for our estimated solution $ \\tilde{x} $ to converge to the unique solution x (to 4.dp).\n",
    "\n",
    "However with the optimal $ \\omega = 1.03 $ the table shows it takes one less iteration (5) to compute what we deem a satisfactory solution of $ \\tilde{x} $. Thus showing that the SOR method can be superior in terms of **computational efficiency** to the GS method.\n",
    "\n",
    "Additionally, I checked to see if our initial guess, $ x^{(0)} $, had a significant impact on the results ($ x^{(0)}_0 $ vs $ x^{(0)}_1 $). My results suggest the answer to this question is no. The average time taken (**speed**) at a given level of $ \\omega $ is very similar. In terms of **accuracy** one could argue the $ x^{(0)}_1 $ results show marginally smaller residual error terms however I believe the size of the difference here to be insignificant."
   ]
  },
  {
   "cell_type": "markdown",
   "metadata": {},
   "source": [
    "## Table 5: Comparing all Methods"
   ]
  },
  {
   "cell_type": "code",
   "execution_count": 173,
   "metadata": {
    "scrolled": true
   },
   "outputs": [
    {
     "name": "stdout",
     "output_type": "stream",
     "text": [
      "Method             Average Time    Fastest Time    Slowest Time    Iterations    Residual (r)\n",
      "---------------  --------------  --------------  --------------  ------------  --------------\n",
      "SOR_x0_𝜔=1.1        0.000151225     0.00128675      0.000130653             6     0.0001296\n",
      "SOR_x1_𝜔=1.1        0.000139076     0.00091958      0.000129938             6     0.000122392\n",
      "SOR_x0_𝜔=1.0=GS     0.000140798     0.000830173     0.0001297               6     7.69731e-05\n",
      "SOR_x1_𝜔=1.0=GS     0.000156107     0.00131655      0.000130653             6     4.88888e-05\n",
      "SOR_x0_𝜔=1.03       0.000141191     0.000693321     0.0001297               5     0.000127245\n",
      "SOR_x1_𝜔=1.03       0.000147391     0.000696898     0.000129938             5     7.13948e-05\n",
      "LU: Doolittle       0.000259581     0.000196695     0.00969601              1     0\n",
      "LU: Crout           0.00024352      0.000206709     0.0226922               1     0\n",
      "LU: Cholesky        0.000204187     0.000184059     0.011673                1     0\n",
      "\n",
      "Note 1: Time refers to Computation Time\n",
      "Note 2: Iterations refers to the number of Iterations required for convergence of 𝑥̃ to x (to 4.dp)\n",
      "Note 3: Residual refers to the final residual error (r = b - A𝑥̃)\n"
     ]
    }
   ],
   "source": [
    "table = [['SOR_x0_𝜔=1.1', Avg_Time_W1S0, Max_Time_W1S0, Min_Time_W1S0, max(Iterations_W1S0), min(Residual_W1S0)],\n",
    "         ['SOR_x1_𝜔=1.1', Avg_Time_W1S1, Max_Time_W1S1, Min_Time_W1S1, max(Iterations_W1S1), min(Residual_W1S1)],\n",
    "         ['SOR_x0_𝜔=1.0=GS', Avg_Time_W0S0, Max_Time_W0S0, Min_Time_W0S0, max(Iterations_W0S0), min(Residual_W0S0)],\n",
    "         ['SOR_x1_𝜔=1.0=GS', Avg_Time_W0S1, Max_Time_W0S1, Min_Time_W0S1, max(Iterations_W0S1), min(Residual_W0S1)],\n",
    "         ['SOR_x0_𝜔=1.03', Avg_Time_W2S0, Max_Time_W2S0, Min_Time_W2S0, max(Iterations_W2S0), min(Residual_W2S0)],\n",
    "         ['SOR_x1_𝜔=1.03', Avg_Time_W2S1, Max_Time_W2S1, Min_Time_W2S1, max(Iterations_W2S1), min(Residual_W2S1)],\n",
    "         ['LU: Doolittle', Avg_Time_Do, Fastest_Time_Do, Slowest_Time_Do, 1, 0],\n",
    "         ['LU: Crout', Avg_Time_Cr, Fastest_Time_Cr, Slowest_Time_Cr, 1, 0],\n",
    "         ['LU: Cholesky', Avg_Time_Ch, Fastest_Time_Ch, Slowest_Time_Ch, 1, 0]]\n",
    "         \n",
    "header = ['Method', 'Average Time', 'Fastest Time', 'Slowest Time', 'Iterations', 'Residual (r)']\n",
    "\n",
    "print(tabulate(table,headers=header))\n",
    "print()\n",
    "print('Note 1: Time refers to Computation Time')\n",
    "print('Note 2: Iterations refers to the number of Iterations required for convergence of 𝑥̃ to x (to 4.dp)')\n",
    "print('Note 3: Residual refers to the final residual error (r = b - A𝑥̃)')"
   ]
  },
  {
   "cell_type": "markdown",
   "metadata": {},
   "source": [
    "## Final comments and observations\n",
    "\n",
    "As table 5 shows, the (indirect) Iterative methods are faster to arrive at a solution on average than the (direct) LU decomposition (LUD) methods. However, the Iterative methods typically only produce approximate solutions hence why the Iterative methods have residual error terms whereas the LU methods do not. Thus the LUD methods are more accurate.\n",
    "\n",
    "A further point to note is that convergence is not always guarenteed with Iterative methods. However, the pivoting of matrix A to PA meant that our matrix became strictly diagonally dominant which in turn means that any choice of our initial guess $ x^{(0)} $ will enable the solutions generated from our Iterative methods to converge to the unique solution of x. \n",
    "\n",
    "To conclude, as table 5 highlights there is a trade-off between accuracy and computational efficiency when choosing between Iterative and LUD methods to solve linear systems. Iterative methods are more suited to solving systems with a higher number of equations and LUD methods a lower number of equations. For this particular assignment I believe the optimal solution method is the SOR method with $ \\omega = 1.03 $ due to its balance of computational efficiency and accuracy."
   ]
  }
 ],
 "metadata": {
  "kernelspec": {
   "display_name": "Python 3",
   "language": "python",
   "name": "python3"
  },
  "language_info": {
   "codemirror_mode": {
    "name": "ipython",
    "version": 3
   },
   "file_extension": ".py",
   "mimetype": "text/x-python",
   "name": "python",
   "nbconvert_exporter": "python",
   "pygments_lexer": "ipython3",
   "version": "3.7.1"
  }
 },
 "nbformat": 4,
 "nbformat_minor": 2
}
